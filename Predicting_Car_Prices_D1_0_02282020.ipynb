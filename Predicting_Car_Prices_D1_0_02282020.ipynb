{
  "nbformat": 4,
  "nbformat_minor": 0,
  "metadata": {
    "colab": {
      "name": "Predicting Car Prices D1.0 02282020",
      "provenance": [],
      "collapsed_sections": [],
      "authorship_tag": "ABX9TyMNJ1AbHrqI4mm0BpsLGIeK",
      "include_colab_link": true
    },
    "kernelspec": {
      "name": "python3",
      "display_name": "Python 3"
    }
  },
  "cells": [
    {
      "cell_type": "markdown",
      "metadata": {
        "id": "view-in-github",
        "colab_type": "text"
      },
      "source": [
        "<a href=\"https://colab.research.google.com/github/sdhar2020/K-Nearest-Neighbor/blob/master/Predicting_Car_Prices_D1_0_02282020.ipynb\" target=\"_parent\"><img src=\"https://colab.research.google.com/assets/colab-badge.svg\" alt=\"Open In Colab\"/></a>"
      ]
    },
    {
      "cell_type": "markdown",
      "metadata": {
        "id": "plDpkymthpdQ",
        "colab_type": "text"
      },
      "source": [
        "# Predict Car Prices\n",
        "\n",
        "This exercise is about predicting car prices based on car features. In this exercise kNN alogirhtm is used to build a model to predict prices"
      ]
    },
    {
      "cell_type": "markdown",
      "metadata": {
        "id": "WlECrISAbITA",
        "colab_type": "text"
      },
      "source": [
        "# Libraries & Settings\n",
        "\n",
        "\n"
      ]
    },
    {
      "cell_type": "code",
      "metadata": {
        "id": "Fc0sJ1JNbH3C",
        "colab_type": "code",
        "colab": {}
      },
      "source": [
        "import pandas as pd\n",
        "import numpy as np\n",
        "pd.options.display.max_columns = 99\n",
        "from sklearn.neighbors import KNeighborsRegressor\n",
        "from sklearn.model_selection import KFold\n",
        "from sklearn.metrics import mean_squared_error\n",
        "import matplotlib.pyplot as plt\n",
        "%matplotlib inline\n",
        "RANDOMSEED= 4242\n",
        "XVAL= 5"
      ],
      "execution_count": 1,
      "outputs": []
    },
    {
      "cell_type": "markdown",
      "metadata": {
        "id": "oH0a3S_qbzIV",
        "colab_type": "text"
      },
      "source": [
        "# Data Load & Read"
      ]
    },
    {
      "cell_type": "markdown",
      "metadata": {
        "id": "zFsF_GdMhiju",
        "colab_type": "text"
      },
      "source": [
        "This s the car price data set that comes as a standard data set in many python packages including plotly."
      ]
    },
    {
      "cell_type": "code",
      "metadata": {
        "id": "dO5uEFTZb2xs",
        "colab_type": "code",
        "colab": {}
      },
      "source": [
        "gitlnk = 'https://raw.githubusercontent.com/plotly/datasets/master/imports-85.csv'"
      ],
      "execution_count": 2,
      "outputs": []
    },
    {
      "cell_type": "code",
      "metadata": {
        "id": "4VbhZ-SSa6ls",
        "colab_type": "code",
        "colab": {}
      },
      "source": [
        "cols = ['symboling', 'normalized-losses', 'make', 'fuel-type', 'aspiration', 'num-of-doors', 'body-style', \n",
        "        'drive-wheels', 'engine-location', 'wheel-base', 'length', 'width', 'height', 'curb-weight', 'engine-type', \n",
        "        'num-of-cylinders', 'engine-size', 'fuel-system', 'bore', 'stroke', 'compression-rate', 'horsepower', 'peak-rpm', 'city-mpg', 'highway-mpg', 'price']\n",
        "cars = pd.read_csv(gitlnk, names=cols, header= 'infer')"
      ],
      "execution_count": 4,
      "outputs": []
    },
    {
      "cell_type": "code",
      "metadata": {
        "id": "jNbfjqlRdN5M",
        "colab_type": "code",
        "colab": {}
      },
      "source": [
        "continuous_values_cols = ['normalized-losses', 'wheel-base', 'length', 'width', 'height', 'curb-weight', 'bore', 'stroke', 'compression-rate', 'horsepower', 'peak-rpm', 'city-mpg', 'highway-mpg', 'price']\n",
        "numeric_cars = cars[continuous_values_cols]"
      ],
      "execution_count": 7,
      "outputs": []
    },
    {
      "cell_type": "code",
      "metadata": {
        "id": "Eckk6pdddfdQ",
        "colab_type": "code",
        "colab": {
          "base_uri": "https://localhost:8080/",
          "height": 202
        },
        "outputId": "a1a942fd-256e-48d5-a2c6-740175d6cbb1"
      },
      "source": [
        "numeric_cars.describe()"
      ],
      "execution_count": 8,
      "outputs": [
        {
          "output_type": "execute_result",
          "data": {
            "text/html": [
              "<div>\n",
              "<style scoped>\n",
              "    .dataframe tbody tr th:only-of-type {\n",
              "        vertical-align: middle;\n",
              "    }\n",
              "\n",
              "    .dataframe tbody tr th {\n",
              "        vertical-align: top;\n",
              "    }\n",
              "\n",
              "    .dataframe thead th {\n",
              "        text-align: right;\n",
              "    }\n",
              "</style>\n",
              "<table border=\"1\" class=\"dataframe\">\n",
              "  <thead>\n",
              "    <tr style=\"text-align: right;\">\n",
              "      <th></th>\n",
              "      <th>normalized-losses</th>\n",
              "      <th>wheel-base</th>\n",
              "      <th>length</th>\n",
              "      <th>width</th>\n",
              "      <th>height</th>\n",
              "      <th>curb-weight</th>\n",
              "      <th>bore</th>\n",
              "      <th>stroke</th>\n",
              "      <th>compression-rate</th>\n",
              "      <th>horsepower</th>\n",
              "      <th>peak-rpm</th>\n",
              "      <th>city-mpg</th>\n",
              "      <th>highway-mpg</th>\n",
              "      <th>price</th>\n",
              "    </tr>\n",
              "  </thead>\n",
              "  <tbody>\n",
              "    <tr>\n",
              "      <th>count</th>\n",
              "      <td>165</td>\n",
              "      <td>206</td>\n",
              "      <td>206</td>\n",
              "      <td>206</td>\n",
              "      <td>206</td>\n",
              "      <td>206</td>\n",
              "      <td>202</td>\n",
              "      <td>202</td>\n",
              "      <td>206</td>\n",
              "      <td>204</td>\n",
              "      <td>204</td>\n",
              "      <td>206</td>\n",
              "      <td>206</td>\n",
              "      <td>202</td>\n",
              "    </tr>\n",
              "    <tr>\n",
              "      <th>unique</th>\n",
              "      <td>52</td>\n",
              "      <td>54</td>\n",
              "      <td>76</td>\n",
              "      <td>45</td>\n",
              "      <td>50</td>\n",
              "      <td>172</td>\n",
              "      <td>39</td>\n",
              "      <td>37</td>\n",
              "      <td>33</td>\n",
              "      <td>60</td>\n",
              "      <td>24</td>\n",
              "      <td>30</td>\n",
              "      <td>31</td>\n",
              "      <td>187</td>\n",
              "    </tr>\n",
              "    <tr>\n",
              "      <th>top</th>\n",
              "      <td>161</td>\n",
              "      <td>94.50</td>\n",
              "      <td>157.30</td>\n",
              "      <td>63.80</td>\n",
              "      <td>50.80</td>\n",
              "      <td>2385</td>\n",
              "      <td>3.62</td>\n",
              "      <td>3.40</td>\n",
              "      <td>9.00</td>\n",
              "      <td>68</td>\n",
              "      <td>5500</td>\n",
              "      <td>31</td>\n",
              "      <td>25</td>\n",
              "      <td>7609</td>\n",
              "    </tr>\n",
              "    <tr>\n",
              "      <th>freq</th>\n",
              "      <td>11</td>\n",
              "      <td>21</td>\n",
              "      <td>15</td>\n",
              "      <td>24</td>\n",
              "      <td>14</td>\n",
              "      <td>4</td>\n",
              "      <td>23</td>\n",
              "      <td>20</td>\n",
              "      <td>46</td>\n",
              "      <td>19</td>\n",
              "      <td>37</td>\n",
              "      <td>28</td>\n",
              "      <td>19</td>\n",
              "      <td>2</td>\n",
              "    </tr>\n",
              "  </tbody>\n",
              "</table>\n",
              "</div>"
            ],
            "text/plain": [
              "       normalized-losses wheel-base  length  width height curb-weight  bore  \\\n",
              "count                165        206     206    206    206         206   202   \n",
              "unique                52         54      76     45     50         172    39   \n",
              "top                  161      94.50  157.30  63.80  50.80        2385  3.62   \n",
              "freq                  11         21      15     24     14           4    23   \n",
              "\n",
              "       stroke compression-rate horsepower peak-rpm city-mpg highway-mpg price  \n",
              "count     202              206        204      204      206         206   202  \n",
              "unique     37               33         60       24       30          31   187  \n",
              "top      3.40             9.00         68     5500       31          25  7609  \n",
              "freq       20               46         19       37       28          19     2  "
            ]
          },
          "metadata": {
            "tags": []
          },
          "execution_count": 8
        }
      ]
    },
    {
      "cell_type": "markdown",
      "metadata": {
        "id": "ohFaCgOziKhE",
        "colab_type": "text"
      },
      "source": [
        "The function below converts the numerical fields into float and wherever it faisl to do so replaces with a NaN"
      ]
    },
    {
      "cell_type": "code",
      "metadata": {
        "id": "B3xncrPnf6v1",
        "colab_type": "code",
        "colab": {}
      },
      "source": [
        "def to_num(x):\n",
        "  try:\n",
        "    x= float(x)\n",
        "  except ValueError:\n",
        "    x= np.NaN\n",
        "  return(x)"
      ],
      "execution_count": 9,
      "outputs": []
    },
    {
      "cell_type": "code",
      "metadata": {
        "id": "lrJ9Pu_DgJq_",
        "colab_type": "code",
        "colab": {}
      },
      "source": [
        "numeric_cars= numeric_cars.applymap(lambda x: to_num(x))"
      ],
      "execution_count": 10,
      "outputs": []
    },
    {
      "cell_type": "code",
      "metadata": {
        "id": "Qf1Kr0tjzAAu",
        "colab_type": "code",
        "colab": {
          "base_uri": "https://localhost:8080/",
          "height": 281
        },
        "outputId": "e06ddd3e-0bb3-4fad-d3e8-f599729b31c9"
      },
      "source": [
        "numeric_cars.isnull().sum()"
      ],
      "execution_count": 11,
      "outputs": [
        {
          "output_type": "execute_result",
          "data": {
            "text/plain": [
              "normalized-losses    42\n",
              "wheel-base            1\n",
              "length                1\n",
              "width                 1\n",
              "height                1\n",
              "curb-weight           1\n",
              "bore                  5\n",
              "stroke                5\n",
              "compression-rate      1\n",
              "horsepower            3\n",
              "peak-rpm              3\n",
              "city-mpg              1\n",
              "highway-mpg           1\n",
              "price                 5\n",
              "dtype: int64"
            ]
          },
          "metadata": {
            "tags": []
          },
          "execution_count": 11
        }
      ]
    },
    {
      "cell_type": "markdown",
      "metadata": {
        "id": "noSeWh67iZHL",
        "colab_type": "text"
      },
      "source": [
        "## Missing Values"
      ]
    },
    {
      "cell_type": "code",
      "metadata": {
        "id": "2PSPWfOTzN-V",
        "colab_type": "code",
        "colab": {
          "base_uri": "https://localhost:8080/",
          "height": 281
        },
        "outputId": "71edc4c6-9513-41d5-cb31-aac67ff7ccfa"
      },
      "source": [
        "# Because `price` is the column we want to predict, let's remove any rows with missing `price` values.\n",
        "numeric_cars = numeric_cars.dropna(subset=['price'])\n",
        "numeric_cars.isnull().sum()"
      ],
      "execution_count": 12,
      "outputs": [
        {
          "output_type": "execute_result",
          "data": {
            "text/plain": [
              "normalized-losses    37\n",
              "wheel-base            0\n",
              "length                0\n",
              "width                 0\n",
              "height                0\n",
              "curb-weight           0\n",
              "bore                  4\n",
              "stroke                4\n",
              "compression-rate      0\n",
              "horsepower            2\n",
              "peak-rpm              2\n",
              "city-mpg              0\n",
              "highway-mpg           0\n",
              "price                 0\n",
              "dtype: int64"
            ]
          },
          "metadata": {
            "tags": []
          },
          "execution_count": 12
        }
      ]
    },
    {
      "cell_type": "code",
      "metadata": {
        "id": "ATIP4XAXzbQ0",
        "colab_type": "code",
        "colab": {}
      },
      "source": [
        "# Replace missing values in other columns using column means.\n",
        "numeric_cars = numeric_cars.fillna(numeric_cars.mean())"
      ],
      "execution_count": 13,
      "outputs": []
    },
    {
      "cell_type": "code",
      "metadata": {
        "id": "cYKySXJJzbMu",
        "colab_type": "code",
        "colab": {
          "base_uri": "https://localhost:8080/",
          "height": 281
        },
        "outputId": "8adca957-b098-45df-80bb-38a14e75f012"
      },
      "source": [
        "numeric_cars.isnull().sum()"
      ],
      "execution_count": 14,
      "outputs": [
        {
          "output_type": "execute_result",
          "data": {
            "text/plain": [
              "normalized-losses    0\n",
              "wheel-base           0\n",
              "length               0\n",
              "width                0\n",
              "height               0\n",
              "curb-weight          0\n",
              "bore                 0\n",
              "stroke               0\n",
              "compression-rate     0\n",
              "horsepower           0\n",
              "peak-rpm             0\n",
              "city-mpg             0\n",
              "highway-mpg          0\n",
              "price                0\n",
              "dtype: int64"
            ]
          },
          "metadata": {
            "tags": []
          },
          "execution_count": 14
        }
      ]
    },
    {
      "cell_type": "markdown",
      "metadata": {
        "id": "zy02Muy1iicD",
        "colab_type": "text"
      },
      "source": [
        "# Feature readiness for modeling"
      ]
    },
    {
      "cell_type": "code",
      "metadata": {
        "id": "8fA1tz-VzqaQ",
        "colab_type": "code",
        "colab": {}
      },
      "source": [
        "# Normalize all columnns to range from 0 to 1 except the target column.\n",
        "price_col = numeric_cars['price']\n",
        "numeric_cars = (numeric_cars - numeric_cars.min())/(numeric_cars.max() - numeric_cars.min())\n",
        "numeric_cars['price'] = price_col"
      ],
      "execution_count": 15,
      "outputs": []
    },
    {
      "cell_type": "code",
      "metadata": {
        "id": "FxkYHG2tz9z9",
        "colab_type": "code",
        "colab": {}
      },
      "source": [
        "cat_vars= list(set(cars.columns) - set(continuous_values_cols))"
      ],
      "execution_count": 16,
      "outputs": []
    },
    {
      "cell_type": "code",
      "metadata": {
        "id": "D4tDeVK70WVP",
        "colab_type": "code",
        "colab": {}
      },
      "source": [
        "car_cat_cols = cars[cat_vars][1:]"
      ],
      "execution_count": 17,
      "outputs": []
    },
    {
      "cell_type": "code",
      "metadata": {
        "id": "SWL0WRR88Qb0",
        "colab_type": "code",
        "colab": {}
      },
      "source": [
        "int_cols= ['symboling', 'num-of-cylinders', 'engine-size']"
      ],
      "execution_count": 18,
      "outputs": []
    },
    {
      "cell_type": "code",
      "metadata": {
        "id": "iZwdD86P7-q3",
        "colab_type": "code",
        "colab": {}
      },
      "source": [
        "cat_vars = list(set(cat_vars) - set(int_cols))"
      ],
      "execution_count": 19,
      "outputs": []
    },
    {
      "cell_type": "code",
      "metadata": {
        "id": "fh0lwUSa1Y7S",
        "colab_type": "code",
        "colab": {}
      },
      "source": [
        "dummy_df = pd.get_dummies(car_cat_cols[cat_vars])"
      ],
      "execution_count": 20,
      "outputs": []
    },
    {
      "cell_type": "code",
      "metadata": {
        "id": "tl4mwDkm2fk1",
        "colab_type": "code",
        "colab": {}
      },
      "source": [
        "df= numeric_cars.merge(dummy_df, how='left', left_index=True, right_index=True)"
      ],
      "execution_count": 21,
      "outputs": []
    },
    {
      "cell_type": "code",
      "metadata": {
        "id": "AhwQnOGp81zB",
        "colab_type": "code",
        "colab": {}
      },
      "source": [
        "df = df.merge(cars[int_cols], how='left', left_index=True, right_index=True)"
      ],
      "execution_count": 22,
      "outputs": []
    },
    {
      "cell_type": "code",
      "metadata": {
        "id": "pn0w5G7U20mI",
        "colab_type": "code",
        "colab": {
          "base_uri": "https://localhost:8080/",
          "height": 0
        },
        "outputId": "cfb4a885-ea0f-4903-94c1-3acfd7d7463a"
      },
      "source": [
        "df.isnull().sum()[df.isnull().sum()> 0]"
      ],
      "execution_count": 23,
      "outputs": [
        {
          "output_type": "execute_result",
          "data": {
            "text/plain": [
              "Series([], dtype: int64)"
            ]
          },
          "metadata": {
            "tags": []
          },
          "execution_count": 23
        }
      ]
    },
    {
      "cell_type": "code",
      "metadata": {
        "id": "dCYXgAUl9J-S",
        "colab_type": "code",
        "colab": {
          "base_uri": "https://localhost:8080/",
          "height": 0
        },
        "outputId": "488c4467-f143-4f02-ed05-4c90526d67e0"
      },
      "source": [
        "df.shape"
      ],
      "execution_count": 24,
      "outputs": [
        {
          "output_type": "execute_result",
          "data": {
            "text/plain": [
              "(201, 70)"
            ]
          },
          "metadata": {
            "tags": []
          },
          "execution_count": 24
        }
      ]
    },
    {
      "cell_type": "markdown",
      "metadata": {
        "id": "6iKcGP7wnf6a",
        "colab_type": "text"
      },
      "source": [
        "70 features including all integer, categorical and numerical variables"
      ]
    },
    {
      "cell_type": "markdown",
      "metadata": {
        "id": "eSpKIS9CJGFd",
        "colab_type": "text"
      },
      "source": [
        "# K- Nearest Neighbour test Harness\n",
        "\n",
        "The function written taks the following input:\n",
        "- Pandas Dataframe\n",
        "- List of Features\n",
        "- Name of target column\n",
        "- Number of Neighbors to calculate the predicted value\n",
        "- Randomseed for seeing the KFold Cross Validation\n",
        "- CV: # of Cros Validation Folds\n",
        "Takes the dataframe and splits into CV splits fits using CV-1 split  and validats on 1 split randomly split with repitiions.\n",
        "\n",
        "rsme calculated as a sqrt of sum of mses/CV.\n",
        "rsses stored as a dictionary for everyvalue of K neighbors and returned as function outputs"
      ]
    },
    {
      "cell_type": "code",
      "metadata": {
        "id": "SlZhb-7t3k4f",
        "colab_type": "code",
        "colab": {}
      },
      "source": [
        "def knn_train_test(df, train_cols, target_col, neighbors=[5], seed= RANDOMSEED, CV= XVAL):\n",
        "  df = df.copy(deep=True)\n",
        "  X = df[train_cols]\n",
        "  Y = df[target_col]\n",
        "  kf= KFold(n_splits=CV, random_state=seed, shuffle=True)\n",
        "  rmses= {}\n",
        "  for k in neighbors:\n",
        "    knn = KNeighborsRegressor(n_neighbors=k)\n",
        "    mses=[]\n",
        "    for train_index, test_index in kf.split(X):\n",
        "      X_train, X_test = X.iloc[train_index], X.iloc[test_index]\n",
        "      y_train, y_test = Y.iloc[train_index], Y.iloc[test_index]\n",
        "      knn.fit(X_train, y_train)\n",
        "      predicted_labels = knn.predict(X_test)\n",
        "      # Calculate and return RMSE.\n",
        "      mse = mean_squared_error(y_test, predicted_labels)\n",
        "      mses.append(mse)\n",
        "    rmse = np.sqrt(sum(mses)/CV)\n",
        "    rmses[k]= rmse\n",
        "  return(rmses)\n"
      ],
      "execution_count": 25,
      "outputs": []
    },
    {
      "cell_type": "markdown",
      "metadata": {
        "id": "aC4-MxbUL4in",
        "colab_type": "text"
      },
      "source": [
        "All Training Columns:"
      ]
    },
    {
      "cell_type": "code",
      "metadata": {
        "id": "9HgyBpmR4MFA",
        "colab_type": "code",
        "colab": {}
      },
      "source": [
        "train_cols = df.columns.drop('price')"
      ],
      "execution_count": 26,
      "outputs": []
    },
    {
      "cell_type": "markdown",
      "metadata": {
        "id": "Go8VLss4MHTK",
        "colab_type": "text"
      },
      "source": [
        "Running kNN for single variables while changing the K value from 1 to 24 to see what generates the best results"
      ]
    },
    {
      "cell_type": "code",
      "metadata": {
        "id": "36-_AsXG4k29",
        "colab_type": "code",
        "colab": {}
      },
      "source": [
        "rmse_results = {}\n",
        "for col in train_cols:\n",
        "    rmse_val = knn_train_test(df, [col], 'price', [i for i in range(1, 25)])\n",
        "    rmse_results[col] = rmse_val\n",
        "# Create a Series object from the dictionary so \n",
        "# we can easily view the results, sort, etc"
      ],
      "execution_count": 27,
      "outputs": []
    },
    {
      "cell_type": "markdown",
      "metadata": {
        "id": "ZkhyBFMSMvXU",
        "colab_type": "text"
      },
      "source": [
        "Lowest RSMEs for each st of columns based on the nearest Neighbor"
      ]
    },
    {
      "cell_type": "code",
      "metadata": {
        "id": "HjmRdTKyMDVc",
        "colab_type": "code",
        "colab": {}
      },
      "source": [
        "lowest_rsme= {}\n",
        "for k,v in rmse_results.items():\n",
        "  lowest_rsme[k]= v[min(v.keys(), key=(lambda k1: v[k1]))]"
      ],
      "execution_count": 28,
      "outputs": []
    },
    {
      "cell_type": "code",
      "metadata": {
        "id": "8lupkjgBub3j",
        "colab_type": "code",
        "colab": {}
      },
      "source": [
        "rmse_results_series = pd.DataFrame.from_dict(lowest_rsme, orient='index', columns=['rsme'])\n",
        "rmse_results_series.sort_values('rsme', inplace=True, ascending=True)"
      ],
      "execution_count": 29,
      "outputs": []
    },
    {
      "cell_type": "code",
      "metadata": {
        "id": "cw1fzQPa5GEF",
        "colab_type": "code",
        "colab": {
          "base_uri": "https://localhost:8080/",
          "height": 480
        },
        "outputId": "e6f2c21f-50da-4d85-c1f2-3155f116b003"
      },
      "source": [
        "rmse_results_series.head(20).plot(kind='barh', figsize=(18,9))"
      ],
      "execution_count": 30,
      "outputs": [
        {
          "output_type": "execute_result",
          "data": {
            "text/plain": [
              "<matplotlib.axes._subplots.AxesSubplot at 0x7f0dc2778860>"
            ]
          },
          "metadata": {
            "tags": []
          },
          "execution_count": 30
        },
        {
          "output_type": "display_data",
          "data": {
            "image/png": "[encoded data removed]",
            "text/plain": [
              "<Figure size 1296x648 with 1 Axes>"
            ]
          },
          "metadata": {
            "tags": [],
            "needs_background": "light"
          }
        }
      ]
    },
    {
      "cell_type": "markdown",
      "metadata": {
        "id": "4nac1p5eOe3d",
        "colab_type": "text"
      },
      "source": [
        "Shows the top 20 variables with the least RMSEs"
      ]
    },
    {
      "cell_type": "markdown",
      "metadata": {
        "id": "lcd0CG2cOv_A",
        "colab_type": "text"
      },
      "source": [
        "# Multivariate kNN\n",
        "\n",
        "Instead of one feature at a time we now build model with top features based on the single variable. We take the 5,10,15,20,25,50 and all features.\n",
        "\n",
        "Calculate the RMSES for all settings of neighbours 1 to 24\n"
      ]
    },
    {
      "cell_type": "code",
      "metadata": {
        "id": "i9DMyHCiyH1v",
        "colab_type": "code",
        "colab": {}
      },
      "source": [
        "top_feats= [5,10,15,20,25, 50,70]\n",
        "rmses = {}\n",
        "for n in top_feats:\n",
        "  features = rmse_results_series.head(n).index.tolist()\n",
        "  rmses[n]= knn_train_test(df, features,'price', [i for i in range(1, 25)])"
      ],
      "execution_count": 31,
      "outputs": []
    },
    {
      "cell_type": "code",
      "metadata": {
        "id": "1-vuM_HEryGr",
        "colab_type": "code",
        "colab": {
          "base_uri": "https://localhost:8080/",
          "height": 530
        },
        "outputId": "8b85517a-f4f5-49de-8e13-f35a50e0815b"
      },
      "source": [
        "plt.figure(figsize=(17,9))\n",
        "\n",
        "for k,v in rmses.items():\n",
        "    x = list(v.keys())\n",
        "    y = list(v.values())\n",
        "    \n",
        "    plt.plot(x,y)\n",
        "    plt.xlabel('k value')\n",
        "    plt.ylabel('RMSE')\n",
        "plt.legend([str(t)+' Top Features' for t in top_feats])   \n",
        "plt.grid(color='b', ls = '-.', lw = 0.25,axis='x',)"
      ],
      "execution_count": 32,
      "outputs": [
        {
          "output_type": "display_data",
          "data": {
            "image/png": "[encoded data removed]",
            "text/plain": [
              "<Figure size 1224x648 with 1 Axes>"
            ]
          },
          "metadata": {
            "tags": [],
            "needs_background": "light"
          }
        }
      ]
    },
    {
      "cell_type": "markdown",
      "metadata": {
        "id": "edIRMyGfSUlM",
        "colab_type": "text"
      },
      "source": [
        "The family of curve show RMSES for the set of features for ech values based on k"
      ]
    },
    {
      "cell_type": "code",
      "metadata": {
        "id": "0A_E3DIdu18R",
        "colab_type": "code",
        "colab": {}
      },
      "source": [
        "rmses\n",
        "lowest_rsme= {}\n",
        "for k,v in rmses.items():\n",
        "  lowest_rsme[k]= {min(v.keys(), key=(lambda k1: v[k1])), v[min(v.keys(), key=(lambda k1: v[k1]))]}"
      ],
      "execution_count": 33,
      "outputs": []
    },
    {
      "cell_type": "code",
      "metadata": {
        "id": "hJ7xSLM01Wzj",
        "colab_type": "code",
        "colab": {
          "base_uri": "https://localhost:8080/",
          "height": 140
        },
        "outputId": "8da55e67-6fb2-469b-f0d8-2ab4e11f2d8b"
      },
      "source": [
        "lowest_rsme"
      ],
      "execution_count": 34,
      "outputs": [
        {
          "output_type": "execute_result",
          "data": {
            "text/plain": [
              "{5: {2, 3034.120821136841},\n",
              " 10: {2, 3041.4617179220527},\n",
              " 15: {3, 3088.794746758293},\n",
              " 20: {4, 3105.777211852878},\n",
              " 25: {3, 3212.754998239476},\n",
              " 50: {3, 3036.103835175516},\n",
              " 70: {3, 2990.369833013607}}"
            ]
          },
          "metadata": {
            "tags": []
          },
          "execution_count": 34
        }
      ]
    },
    {
      "cell_type": "markdown",
      "metadata": {
        "id": "5ry84hjmS_Z2",
        "colab_type": "text"
      },
      "source": [
        "We shall choose top 5 features with K=2 for our final model"
      ]
    },
    {
      "cell_type": "code",
      "metadata": {
        "id": "H2boa16tcS17",
        "colab_type": "code",
        "colab": {}
      },
      "source": [
        "train_cols= rmse_results_series.head(5).index.tolist()\n",
        "X = df[train_cols]\n",
        "y = df['price']\n",
        "knn = KNeighborsRegressor(n_neighbors=2)\n",
        "knn.fit(X, y)\n",
        "predicted_labels = knn.predict(X)\n",
        "\n"
      ],
      "execution_count": 35,
      "outputs": []
    },
    {
      "cell_type": "code",
      "metadata": {
        "id": "XXPcGZISdp51",
        "colab_type": "code",
        "colab": {
          "base_uri": "https://localhost:8080/",
          "height": 1000
        },
        "outputId": "71f0d64c-1bf6-4dc1-ab54-6be64f7c87c7"
      },
      "source": [
        "plt.figure(figsize=(15,15))\n",
        "plt.suptitle('Scatter plot- Actual vs. Predicted')\n",
        "plt.xlabel('Actual Values ($ Price)')\n",
        "plt.ylabel('Predicted ($ Price)')\n",
        "plt.scatter(y.values,predicted_labels, marker= '+')\n",
        "\n",
        "z = np.polyfit(y.values, predicted_labels, 1)\n",
        "p = np.poly1d(z)\n",
        "plt.plot(y.values,p(y.values),\"r--\")\n",
        "plt.title(\"y=%.6fx+%.6f\"%(z[0],z[1]))\n"
      ],
      "execution_count": 36,
      "outputs": [
        {
          "output_type": "execute_result",
          "data": {
            "text/plain": [
              "Text(0.5, 1.0, 'y=0.970301x+330.150045')"
            ]
          },
          "metadata": {
            "tags": []
          },
          "execution_count": 36
        },
        {
          "output_type": "display_data",
          "data": {
            "image/png": "[encoded data removed]",
            "text/plain": [
              "<Figure size 1080x1080 with 1 Axes>"
            ]
          },
          "metadata": {
            "tags": [],
            "needs_background": "light"
          }
        }
      ]
    },
    {
      "cell_type": "markdown",
      "metadata": {
        "id": "pEKsLyvDTsCl",
        "colab_type": "text"
      },
      "source": [
        "The actual values vs. predicted value lines up nicely around a 45 degree line. There is a spread at the higher values which can perhaps be taken care of when using a higher order model.\n",
        "\n",
        "But models that are parsimonious usually behave and generalize well in longer term implementations"
      ]
    }
  ]
}